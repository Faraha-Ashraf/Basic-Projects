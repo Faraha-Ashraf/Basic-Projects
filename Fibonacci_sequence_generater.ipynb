{
  "nbformat": 4,
  "nbformat_minor": 0,
  "metadata": {
    "colab": {
      "provenance": [],
      "authorship_tag": "ABX9TyNzvr5fpoVSGBhNIitufb5o",
      "include_colab_link": true
    },
    "kernelspec": {
      "name": "python3",
      "display_name": "Python 3"
    },
    "language_info": {
      "name": "python"
    }
  },
  "cells": [
    {
      "cell_type": "markdown",
      "metadata": {
        "id": "view-in-github",
        "colab_type": "text"
      },
      "source": [
        "<a href=\"https://colab.research.google.com/github/Faraha-Ashraf/Basic-Projects/blob/main/Fibonacci_sequence_generater.ipynb\" target=\"_parent\"><img src=\"https://colab.research.google.com/assets/colab-badge.svg\" alt=\"Open In Colab\"/></a>"
      ]
    },
    {
      "cell_type": "code",
      "execution_count": null,
      "metadata": {
        "id": "rKlwGECCQC1B"
      },
      "outputs": [],
      "source": []
    },
    {
      "cell_type": "markdown",
      "source": [
        "**Fibonacci sequence generater**"
      ],
      "metadata": {
        "id": "pXsRs8ZYvaCf"
      }
    },
    {
      "cell_type": "code",
      "source": [
        "def fibonacci_sequence(n):\n",
        "    # Initialize the first two numbers in the sequence\n",
        "    fib_sequence = [0, 1]\n",
        "\n",
        "    # Generate the Fibonacci sequence\n",
        "    for i in range(2, n):\n",
        "        next_number = fib_sequence[i-1] + fib_sequence[i-2]\n",
        "        fib_sequence.append(next_number)\n",
        "\n",
        "    return fib_sequence[:n]\n",
        "\n",
        "# Input: Number of terms in the Fibonacci sequence\n",
        "n = int(input(\"Enter the number of terms: \"))\n",
        "\n",
        "# Output the Fibonacci sequence\n",
        "if n <= 0:\n",
        "    print(\"Please enter a positive integer.\")\n",
        "elif n == 1:\n",
        "    print(\"Fibonacci sequence:\", [0])\n",
        "else:\n",
        "    print(\"Fibonacci sequence:\", fibonacci_sequence(n))\n"
      ],
      "metadata": {
        "colab": {
          "base_uri": "https://localhost:8080/"
        },
        "id": "ivM32A_yv7hr",
        "outputId": "ab63e2f0-46b9-46ff-db61-0bd37c99aced"
      },
      "execution_count": 4,
      "outputs": [
        {
          "output_type": "stream",
          "name": "stdout",
          "text": [
            "Enter the number of terms: 7\n",
            "Fibonacci sequence: [0, 1, 1, 2, 3, 5, 8]\n"
          ]
        }
      ]
    },
    {
      "cell_type": "code",
      "source": [],
      "metadata": {
        "id": "0v-EKRwBv6TO"
      },
      "execution_count": null,
      "outputs": []
    },
    {
      "cell_type": "markdown",
      "source": [],
      "metadata": {
        "id": "7kFL4bDUvbl5"
      }
    },
    {
      "cell_type": "code",
      "source": [],
      "metadata": {
        "id": "ebvh6SeyX51a"
      },
      "execution_count": null,
      "outputs": []
    },
    {
      "cell_type": "code",
      "source": [],
      "metadata": {
        "id": "gXtFu7q5X6X8"
      },
      "execution_count": null,
      "outputs": []
    }
  ]
}