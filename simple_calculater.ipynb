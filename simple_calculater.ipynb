{
  "nbformat": 4,
  "nbformat_minor": 0,
  "metadata": {
    "colab": {
      "provenance": [],
      "authorship_tag": "ABX9TyOTzqKJPDMFM7TadrgJjVk0",
      "include_colab_link": true
    },
    "kernelspec": {
      "name": "python3",
      "display_name": "Python 3"
    },
    "language_info": {
      "name": "python"
    }
  },
  "cells": [
    {
      "cell_type": "markdown",
      "metadata": {
        "id": "view-in-github",
        "colab_type": "text"
      },
      "source": [
        "<a href=\"https://colab.research.google.com/github/Faraha-Ashraf/Basic-Projects/blob/main/simple_calculater.ipynb\" target=\"_parent\"><img src=\"https://colab.research.google.com/assets/colab-badge.svg\" alt=\"Open In Colab\"/></a>"
      ]
    },
    {
      "cell_type": "code",
      "execution_count": 2,
      "metadata": {
        "id": "rKlwGECCQC1B",
        "colab": {
          "base_uri": "https://localhost:8080/"
        },
        "outputId": "0f56e257-c8e2-429b-ccca-df08c4893e3b"
      },
      "outputs": [
        {
          "output_type": "stream",
          "name": "stdout",
          "text": [
            "33\n",
            "-13\n",
            "230\n",
            "0.43478260869565216\n"
          ]
        }
      ],
      "source": [
        "#/Code for add, subtract, multiply and divide\"\"\"\n",
        "x=10\n",
        "y=23\n",
        "print(x+y)\n",
        "print(x-y)\n",
        "print(x*y)\n",
        "print(x/y)"
      ]
    },
    {
      "cell_type": "code",
      "source": [],
      "metadata": {
        "id": "ebvh6SeyX51a"
      },
      "execution_count": null,
      "outputs": []
    },
    {
      "cell_type": "code",
      "source": [],
      "metadata": {
        "id": "gXtFu7q5X6X8"
      },
      "execution_count": null,
      "outputs": []
    }
  ]
}