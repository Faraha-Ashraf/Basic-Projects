{
  "nbformat": 4,
  "nbformat_minor": 0,
  "metadata": {
    "colab": {
      "provenance": [],
      "authorship_tag": "ABX9TyNiLeIOMlvF1uNl8XcCBmfd",
      "include_colab_link": true
    },
    "kernelspec": {
      "name": "python3",
      "display_name": "Python 3"
    },
    "language_info": {
      "name": "python"
    }
  },
  "cells": [
    {
      "cell_type": "markdown",
      "metadata": {
        "id": "view-in-github",
        "colab_type": "text"
      },
      "source": [
        "<a href=\"https://colab.research.google.com/github/Faraha-Ashraf/Basic-Projects/blob/main/Word_count_code.ipynb\" target=\"_parent\"><img src=\"https://colab.research.google.com/assets/colab-badge.svg\" alt=\"Open In Colab\"/></a>"
      ]
    },
    {
      "cell_type": "code",
      "execution_count": null,
      "metadata": {
        "id": "rKlwGECCQC1B"
      },
      "outputs": [],
      "source": []
    },
    {
      "cell_type": "markdown",
      "source": [
        "\n",
        "\n",
        "```\n",
        "# Code for counting words in a sentence\n",
        "```\n",
        "\n",
        "**Word count code**"
      ],
      "metadata": {
        "id": "pXsRs8ZYvaCf"
      }
    },
    {
      "cell_type": "code",
      "source": [
        "input_text = input(\"Enter the text: \")\n",
        "words = input_text.split()\n",
        "word_count = len(words)\n",
        "print(\"Word count:\", word_count)"
      ],
      "metadata": {
        "colab": {
          "base_uri": "https://localhost:8080/"
        },
        "id": "ivM32A_yv7hr",
        "outputId": "03fdd08a-2e9f-4992-b2b0-f932e155fcf9"
      },
      "execution_count": 3,
      "outputs": [
        {
          "output_type": "stream",
          "name": "stdout",
          "text": [
            "Enter the text: I am going to market\n",
            "Word count: 5\n"
          ]
        }
      ]
    },
    {
      "cell_type": "code",
      "source": [],
      "metadata": {
        "id": "0v-EKRwBv6TO"
      },
      "execution_count": null,
      "outputs": []
    },
    {
      "cell_type": "markdown",
      "source": [],
      "metadata": {
        "id": "7kFL4bDUvbl5"
      }
    },
    {
      "cell_type": "code",
      "source": [],
      "metadata": {
        "id": "ebvh6SeyX51a"
      },
      "execution_count": null,
      "outputs": []
    },
    {
      "cell_type": "code",
      "source": [],
      "metadata": {
        "id": "gXtFu7q5X6X8"
      },
      "execution_count": null,
      "outputs": []
    }
  ]
}