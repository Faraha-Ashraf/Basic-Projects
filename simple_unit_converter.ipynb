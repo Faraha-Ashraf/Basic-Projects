{
  "nbformat": 4,
  "nbformat_minor": 0,
  "metadata": {
    "colab": {
      "provenance": [],
      "authorship_tag": "ABX9TyN2szvr30STmDsrczeE5o0v",
      "include_colab_link": true
    },
    "kernelspec": {
      "name": "python3",
      "display_name": "Python 3"
    },
    "language_info": {
      "name": "python"
    }
  },
  "cells": [
    {
      "cell_type": "markdown",
      "metadata": {
        "id": "view-in-github",
        "colab_type": "text"
      },
      "source": [
        "<a href=\"https://colab.research.google.com/github/Faraha-Ashraf/Basic-Projects/blob/main/simple_unit_converter.ipynb\" target=\"_parent\"><img src=\"https://colab.research.google.com/assets/colab-badge.svg\" alt=\"Open In Colab\"/></a>"
      ]
    },
    {
      "cell_type": "code",
      "execution_count": 4,
      "metadata": {
        "id": "rKlwGECCQC1B",
        "colab": {
          "base_uri": "https://localhost:8080/"
        },
        "outputId": "1a02f134-d61b-447f-c93e-9449b39e0b3a"
      },
      "outputs": [
        {
          "output_type": "stream",
          "name": "stdout",
          "text": [
            "\n",
            "--- Unit Converter ---\n",
            "1. Length Conversion\n",
            "2. Weight Conversion\n",
            "3. Temperature Conversion\n",
            "4. Exit\n",
            "Enter your choice (1-4): 2\n",
            "\n",
            "--- Weight Conversion ---\n",
            "1. Kilograms to Grams\n",
            "2. Grams to Kilograms\n",
            "3. Pounds to Kilograms\n",
            "4. Kilograms to Pounds\n",
            "Choose an option (1-4): 4\n",
            "Enter weight in kilograms: 65\n",
            "65.0 kilograms = 143.3003 pounds\n",
            "\n",
            "--- Unit Converter ---\n",
            "1. Length Conversion\n",
            "2. Weight Conversion\n",
            "3. Temperature Conversion\n",
            "4. Exit\n",
            "Enter your choice (1-4): 4\n",
            "Goodbye!\n"
          ]
        }
      ],
      "source": [
        "# Simple Unit Converter\n",
        "\n",
        "def show_menu():\n",
        "    print(\"\\n--- Unit Converter ---\")\n",
        "    print(\"1. Length Conversion\")\n",
        "    print(\"2. Weight Conversion\")\n",
        "    print(\"3. Temperature Conversion\")\n",
        "    print(\"4. Exit\")\n",
        "\n",
        "def length_conversion():\n",
        "    print(\"\\n--- Length Conversion ---\")\n",
        "    print(\"1. Meters to Kilometers\")\n",
        "    print(\"2. Kilometers to Meters\")\n",
        "    print(\"3. Centimeters to Meters\")\n",
        "    print(\"4. Meters to Centimeters\")\n",
        "    choice = input(\"Choose an option (1-4): \")\n",
        "\n",
        "    if choice == '1':\n",
        "        meters = float(input(\"Enter length in meters: \"))\n",
        "        print(f\"{meters} meters = {meters / 1000} kilometers\")\n",
        "    elif choice == '2':\n",
        "        kilometers = float(input(\"Enter length in kilometers: \"))\n",
        "        print(f\"{kilometers} kilometers = {kilometers * 1000} meters\")\n",
        "    elif choice == '3':\n",
        "        centimeters = float(input(\"Enter length in centimeters: \"))\n",
        "        print(f\"{centimeters} centimeters = {centimeters / 100} meters\")\n",
        "    elif choice == '4':\n",
        "        meters = float(input(\"Enter length in meters: \"))\n",
        "        print(f\"{meters} meters = {meters * 100} centimeters\")\n",
        "    else:\n",
        "        print(\"Invalid choice!\")\n",
        "\n",
        "def weight_conversion():\n",
        "    print(\"\\n--- Weight Conversion ---\")\n",
        "    print(\"1. Kilograms to Grams\")\n",
        "    print(\"2. Grams to Kilograms\")\n",
        "    print(\"3. Pounds to Kilograms\")\n",
        "    print(\"4. Kilograms to Pounds\")\n",
        "    choice = input(\"Choose an option (1-4): \")\n",
        "\n",
        "    if choice == '1':\n",
        "        kilograms = float(input(\"Enter weight in kilograms: \"))\n",
        "        print(f\"{kilograms} kilograms = {kilograms * 1000} grams\")\n",
        "    elif choice == '2':\n",
        "        grams = float(input(\"Enter weight in grams: \"))\n",
        "        print(f\"{grams} grams = {grams / 1000} kilograms\")\n",
        "    elif choice == '3':\n",
        "        pounds = float(input(\"Enter weight in pounds: \"))\n",
        "        print(f\"{pounds} pounds = {pounds * 0.453592} kilograms\")\n",
        "    elif choice == '4':\n",
        "        kilograms = float(input(\"Enter weight in kilograms: \"))\n",
        "        print(f\"{kilograms} kilograms = {kilograms * 2.20462} pounds\")\n",
        "    else:\n",
        "        print(\"Invalid choice!\")\n",
        "\n",
        "def temperature_conversion():\n",
        "    print(\"\\n--- Temperature Conversion ---\")\n",
        "    print(\"1. Celsius to Fahrenheit\")\n",
        "    print(\"2. Fahrenheit to Celsius\")\n",
        "    choice = input(\"Choose an option (1-2): \")\n",
        "\n",
        "    if choice == '1':\n",
        "        celsius = float(input(\"Enter temperature in Celsius: \"))\n",
        "        fahrenheit = (celsius * 9/5) + 32\n",
        "        print(f\"{celsius}°C = {fahrenheit}°F\")\n",
        "    elif choice == '2':\n",
        "        fahrenheit = float(input(\"Enter temperature in Fahrenheit: \"))\n",
        "        celsius = (fahrenheit - 32) * 5/9\n",
        "        print(f\"{fahrenheit}°F = {celsius}°C\")\n",
        "    else:\n",
        "        print(\"Invalid choice!\")\n",
        "\n",
        "def main():\n",
        "    while True:\n",
        "        show_menu()\n",
        "        choice = input(\"Enter your choice (1-4): \")\n",
        "\n",
        "        if choice == '1':\n",
        "            length_conversion()\n",
        "        elif choice == '2':\n",
        "            weight_conversion()\n",
        "        elif choice == '3':\n",
        "            temperature_conversion()\n",
        "        elif choice == '4':\n",
        "            print(\"Goodbye!\")\n",
        "            break\n",
        "        else:\n",
        "            print(\"Invalid choice. Please try again.\")\n",
        "\n",
        "if __name__ == \"__main__\":\n",
        "    main()\n"
      ]
    },
    {
      "cell_type": "code",
      "source": [],
      "metadata": {
        "id": "ebvh6SeyX51a"
      },
      "execution_count": null,
      "outputs": []
    },
    {
      "cell_type": "code",
      "source": [],
      "metadata": {
        "id": "gXtFu7q5X6X8"
      },
      "execution_count": null,
      "outputs": []
    }
  ]
}