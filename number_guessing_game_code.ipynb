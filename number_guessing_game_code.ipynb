{
  "nbformat": 4,
  "nbformat_minor": 0,
  "metadata": {
    "colab": {
      "provenance": [],
      "authorship_tag": "ABX9TyOKLsY1HYC3lXBZbDor8lwe",
      "include_colab_link": true
    },
    "kernelspec": {
      "name": "python3",
      "display_name": "Python 3"
    },
    "language_info": {
      "name": "python"
    }
  },
  "cells": [
    {
      "cell_type": "markdown",
      "metadata": {
        "id": "view-in-github",
        "colab_type": "text"
      },
      "source": [
        "<a href=\"https://colab.research.google.com/github/Faraha-Ashraf/Basic-Projects/blob/main/number_guessing_game_code.ipynb\" target=\"_parent\"><img src=\"https://colab.research.google.com/assets/colab-badge.svg\" alt=\"Open In Colab\"/></a>"
      ]
    },
    {
      "cell_type": "code",
      "execution_count": null,
      "metadata": {
        "id": "rKlwGECCQC1B"
      },
      "outputs": [],
      "source": []
    },
    {
      "cell_type": "markdown",
      "source": [
        "\n",
        "\n",
        "```\n",
        "# You have to guess a number between 1 and 50.\n",
        "\n",
        "```\n",
        "\n",
        "**Number Guessing game**"
      ],
      "metadata": {
        "id": "pXsRs8ZYvaCf"
      }
    },
    {
      "cell_type": "code",
      "source": [
        "import random\n",
        "\n",
        "def guessing_game():\n",
        "    # Generate a random number between 1 and 50\n",
        "    number_to_guess = random.randint(1, 50)\n",
        "\n",
        "    # Initially number of guesses\n",
        "    attempts = 0\n",
        "\n",
        "    print(\"You are wellcomed to the Number Guessing Game!\")\n",
        "    print(\"I'm thinking of a number between 1 and 50.\")\n",
        "\n",
        "    # Loop until the user guesses the correct number\n",
        "    while True:\n",
        "        # Take user input\n",
        "        guess = int(input(\"Enter your guess: \"))\n",
        "        attempts += 1\n",
        "\n",
        "        # Check if the guess is correct\n",
        "        if guess < number_to_guess:\n",
        "            print(\"Too low! Try again.\")\n",
        "        elif guess > number_to_guess:\n",
        "            print(\"Too high! Try again.\")\n",
        "        else:\n",
        "            print(f\"Congratulations! You guessed the number in {attempts} attempts.\")\n",
        "            break\n",
        "\n",
        "# Start the game\n",
        "guessing_game()\n"
      ],
      "metadata": {
        "colab": {
          "base_uri": "https://localhost:8080/"
        },
        "id": "ivM32A_yv7hr",
        "outputId": "e122ec27-363f-4195-c827-158fb57a09d6"
      },
      "execution_count": 1,
      "outputs": [
        {
          "output_type": "stream",
          "name": "stdout",
          "text": [
            "You are wellcomed to the Number Guessing Game!\n",
            "I'm thinking of a number between 1 and 50.\n",
            "Enter your guess: 6\n",
            "Too low! Try again.\n",
            "Enter your guess: 20\n",
            "Too low! Try again.\n",
            "Enter your guess: 34\n",
            "Too low! Try again.\n",
            "Enter your guess: 40\n",
            "Too high! Try again.\n",
            "Enter your guess: 35\n",
            "Congratulations! You guessed the number in 5 attempts.\n"
          ]
        }
      ]
    },
    {
      "cell_type": "markdown",
      "source": [],
      "metadata": {
        "id": "PQQBWOk56u9c"
      }
    },
    {
      "cell_type": "code",
      "source": [],
      "metadata": {
        "id": "0v-EKRwBv6TO"
      },
      "execution_count": null,
      "outputs": []
    },
    {
      "cell_type": "markdown",
      "source": [],
      "metadata": {
        "id": "7kFL4bDUvbl5"
      }
    },
    {
      "cell_type": "code",
      "source": [],
      "metadata": {
        "id": "ebvh6SeyX51a"
      },
      "execution_count": null,
      "outputs": []
    },
    {
      "cell_type": "code",
      "source": [],
      "metadata": {
        "id": "gXtFu7q5X6X8"
      },
      "execution_count": null,
      "outputs": []
    }
  ]
}