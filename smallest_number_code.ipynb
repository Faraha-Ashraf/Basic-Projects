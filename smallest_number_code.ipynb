{
  "nbformat": 4,
  "nbformat_minor": 0,
  "metadata": {
    "colab": {
      "provenance": [],
      "authorship_tag": "ABX9TyPIBjB9Wk2XylhN1AO+pCcF",
      "include_colab_link": true
    },
    "kernelspec": {
      "name": "python3",
      "display_name": "Python 3"
    },
    "language_info": {
      "name": "python"
    }
  },
  "cells": [
    {
      "cell_type": "markdown",
      "metadata": {
        "id": "view-in-github",
        "colab_type": "text"
      },
      "source": [
        "<a href=\"https://colab.research.google.com/github/Faraha-Ashraf/Basic-Projects/blob/main/smallest_number_code.ipynb\" target=\"_parent\"><img src=\"https://colab.research.google.com/assets/colab-badge.svg\" alt=\"Open In Colab\"/></a>"
      ]
    },
    {
      "cell_type": "code",
      "execution_count": null,
      "metadata": {
        "id": "rKlwGECCQC1B"
      },
      "outputs": [],
      "source": []
    },
    {
      "cell_type": "markdown",
      "source": [
        "\n",
        "\n",
        "```\n",
        "# find greatest common divisor of two numbers\n",
        "```\n",
        "\n",
        "**G.C.D Calculater**"
      ],
      "metadata": {
        "id": "pXsRs8ZYvaCf"
      }
    },
    {
      "cell_type": "code",
      "source": [
        "def gcd(a, b):\n",
        "    while b: # This loop continues till b is non-zero\n",
        "        a, b = b, a % b # Assign a to b  and b to  remainder\n",
        "    return a # When b will be zero a will be gcd\n",
        "\n",
        "num1 = int(input(\"Enter the first number: \"))\n",
        "num2 = int(input(\"Enter the second number: \"))\n",
        "\n",
        "# Calculate GCD\n",
        "result = gcd(num1, num2)\n",
        "\n",
        "# Display the result\n",
        "print(f\"The GCD of {num1} and {num2} is {result}\")\n"
      ],
      "metadata": {
        "colab": {
          "base_uri": "https://localhost:8080/"
        },
        "id": "ivM32A_yv7hr",
        "outputId": "b3bc7f41-ae6a-49af-c59b-e0246d3c4e9a"
      },
      "execution_count": 5,
      "outputs": [
        {
          "output_type": "stream",
          "name": "stdout",
          "text": [
            "Enter the first number: 45\n",
            "Enter the second number: 20\n",
            "The GCD of 45 and 20 is 5\n"
          ]
        }
      ]
    },
    {
      "cell_type": "markdown",
      "source": [],
      "metadata": {
        "id": "PQQBWOk56u9c"
      }
    },
    {
      "cell_type": "code",
      "source": [],
      "metadata": {
        "id": "0v-EKRwBv6TO"
      },
      "execution_count": null,
      "outputs": []
    },
    {
      "cell_type": "markdown",
      "source": [],
      "metadata": {
        "id": "7kFL4bDUvbl5"
      }
    },
    {
      "cell_type": "code",
      "source": [],
      "metadata": {
        "id": "ebvh6SeyX51a"
      },
      "execution_count": null,
      "outputs": []
    },
    {
      "cell_type": "code",
      "source": [],
      "metadata": {
        "id": "gXtFu7q5X6X8"
      },
      "execution_count": null,
      "outputs": []
    }
  ]
}