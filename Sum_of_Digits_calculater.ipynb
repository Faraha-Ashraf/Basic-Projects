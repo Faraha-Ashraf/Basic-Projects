{
  "nbformat": 4,
  "nbformat_minor": 0,
  "metadata": {
    "colab": {
      "provenance": [],
      "authorship_tag": "ABX9TyOoxVtYWHWAa4t/n0iwMYn4",
      "include_colab_link": true
    },
    "kernelspec": {
      "name": "python3",
      "display_name": "Python 3"
    },
    "language_info": {
      "name": "python"
    }
  },
  "cells": [
    {
      "cell_type": "markdown",
      "metadata": {
        "id": "view-in-github",
        "colab_type": "text"
      },
      "source": [
        "<a href=\"https://colab.research.google.com/github/Faraha-Ashraf/Basic-Projects/blob/main/Sum_of_Digits_calculater.ipynb\" target=\"_parent\"><img src=\"https://colab.research.google.com/assets/colab-badge.svg\" alt=\"Open In Colab\"/></a>"
      ]
    },
    {
      "cell_type": "code",
      "execution_count": 4,
      "metadata": {
        "id": "rKlwGECCQC1B",
        "colab": {
          "base_uri": "https://localhost:8080/"
        },
        "outputId": "208769f7-1acd-452a-e906-2a8a8ca8963e"
      },
      "outputs": [
        {
          "output_type": "stream",
          "name": "stdout",
          "text": [
            "15\n"
          ]
        }
      ],
      "source": [
        "num = 12345\n",
        "sum_digits = 0\n",
        "while num != 0:\n",
        "     sum_digits += num % 10\n",
        "     num //= 10\n",
        "print(sum_digits)"
      ]
    },
    {
      "cell_type": "code",
      "source": [],
      "metadata": {
        "id": "ebvh6SeyX51a"
      },
      "execution_count": null,
      "outputs": []
    },
    {
      "cell_type": "code",
      "source": [],
      "metadata": {
        "id": "gXtFu7q5X6X8"
      },
      "execution_count": null,
      "outputs": []
    }
  ]
}